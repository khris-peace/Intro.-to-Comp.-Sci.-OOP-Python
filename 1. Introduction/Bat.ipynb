{
  "nbformat": 4,
  "nbformat_minor": 0,
  "metadata": {
    "colab": {
      "provenance": []
    },
    "kernelspec": {
      "name": "python3",
      "display_name": "Python 3"
    },
    "language_info": {
      "name": "python"
    }
  },
  "cells": [
    {
      "cell_type": "code",
      "execution_count": 2,
      "metadata": {
        "colab": {
          "base_uri": "https://localhost:8080/",
          "height": 0
        },
        "id": "io-uwIHeqGj-",
        "outputId": "f6e6c9aa-2cb6-4317-f014-c6e8c898378e"
      },
      "outputs": [
        {
          "output_type": "stream",
          "name": "stdout",
          "text": [
            "33.333333333333336\n"
          ]
        }
      ],
      "source": [
        "kax = 100\n",
        "mar = kax // 7\n",
        "rep = mar % 5 / float(2)\n",
        "\n",
        "bat = kax / (rep + 1)\n",
        "\n",
        "print(bat)"
      ]
    }
  ]
}