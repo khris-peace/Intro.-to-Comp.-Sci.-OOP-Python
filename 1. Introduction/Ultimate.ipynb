{
  "nbformat": 4,
  "nbformat_minor": 0,
  "metadata": {
    "colab": {
      "provenance": []
    },
    "kernelspec": {
      "name": "python3",
      "display_name": "Python 3"
    },
    "language_info": {
      "name": "python"
    }
  },
  "cells": [
    {
      "cell_type": "code",
      "execution_count": 1,
      "metadata": {
        "colab": {
          "base_uri": "https://localhost:8080/"
        },
        "id": "d3wqj6sfolmI",
        "outputId": "92df973e-6908-4b1a-8a69-6b3950885260"
      },
      "outputs": [
        {
          "output_type": "stream",
          "name": "stdout",
          "text": [
            "361\n"
          ]
        }
      ],
      "source": [
        "foo = 11\n",
        "bar = 11 * 2\n",
        "baz = 11 ** 2 + 7\n",
        "foobar = foo + bar\n",
        "qup = baz - 20 + foobar\n",
        "\n",
        "ultimate = (foo * bar) + (foo ** 2) - 2\n",
        "\n",
        "print(ultimate)"
      ]
    }
  ]
}