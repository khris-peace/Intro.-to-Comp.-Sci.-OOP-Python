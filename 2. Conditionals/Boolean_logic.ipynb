{
  "nbformat": 4,
  "nbformat_minor": 0,
  "metadata": {
    "colab": {
      "provenance": []
    },
    "kernelspec": {
      "name": "python3",
      "display_name": "Python 3"
    },
    "language_info": {
      "name": "python"
    }
  },
  "cells": [
    {
      "cell_type": "code",
      "execution_count": 42,
      "metadata": {
        "colab": {
          "base_uri": "https://localhost:8080/"
        },
        "id": "-HGwd4NTIE8b",
        "outputId": "adbf2fdf-8afd-4ae5-c841-93a27efd5e49"
      },
      "outputs": [
        {
          "output_type": "stream",
          "name": "stdout",
          "text": [
            "False\n"
          ]
        }
      ],
      "source": [
        "alpha = True\n",
        "beta = False\n",
        "gamma = True\n",
        "delta = 'axabagaa'\n",
        "\n",
        "\n",
        "print((alpha == True and beta == True and gamma == True) or ('a' not in delta and 'e' not in delta and 'i' not in delta and 'u' not in delta and 'o'not in delta))"
      ]
    }
  ]
}