{
  "nbformat": 4,
  "nbformat_minor": 0,
  "metadata": {
    "colab": {
      "provenance": []
    },
    "kernelspec": {
      "name": "python3",
      "display_name": "Python 3"
    },
    "language_info": {
      "name": "python"
    }
  },
  "cells": [
    {
      "cell_type": "code",
      "execution_count": 4,
      "metadata": {
        "colab": {
          "base_uri": "https://localhost:8080/"
        },
        "id": "ONGeBmkyrUBD",
        "outputId": "387297b3-cf20-4acf-9b01-6a6c0e66f6e0"
      },
      "outputs": [
        {
          "output_type": "stream",
          "name": "stdout",
          "text": [
            "possible\n"
          ]
        }
      ],
      "source": [
        "distance = 10\n",
        "time = 24\n",
        "max_speed = 120\n",
        "max_distance = time * max_speed # max distance that we can reach for this time\n",
        "\n",
        "if distance <= max_distance:\n",
        "  print('possible')\n",
        "else:\n",
        "  print('impossible') "
      ]
    }
  ]
}