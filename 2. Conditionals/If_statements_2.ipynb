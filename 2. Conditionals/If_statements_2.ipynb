{
  "nbformat": 4,
  "nbformat_minor": 0,
  "metadata": {
    "colab": {
      "provenance": []
    },
    "kernelspec": {
      "name": "python3",
      "display_name": "Python 3"
    },
    "language_info": {
      "name": "python"
    }
  },
  "cells": [
    {
      "cell_type": "code",
      "execution_count": 1,
      "metadata": {
        "colab": {
          "base_uri": "https://localhost:8080/"
        },
        "id": "3RrtGj0PxGzl",
        "outputId": "1ce81ab0-0a88-4fc9-854c-be7241e22942"
      },
      "outputs": [
        {
          "output_type": "stream",
          "name": "stdout",
          "text": [
            "No, that's too heavy for me. I do have room for an apple, though!\n"
          ]
        }
      ],
      "source": [
        "meal = \"Lunch\" # 'Breakfast', 'Lunch', 'Dinner'\n",
        "fullness_level = 4.7 # [0,10]\n",
        "is_on_diet = False # True, False\n",
        "\n",
        "if meal == 'Breakfast':\n",
        "  print(\"Ice cream isn't for breakfast.\")\n",
        "else:\n",
        "  if fullness_level <= 3.5:\n",
        "    if is_on_diet == False:\n",
        "      print(\"Yes, please! I'd love some!\")\n",
        "    else: print(\"None for me, thanks.\")\n",
        "  elif fullness_level <= 6.0:\n",
        "    print(\"No, that's too heavy for me. I do have room for an apple, though!\")\n",
        "  else: print(\"None for me, thanks.\")"
      ]
    }
  ]
}