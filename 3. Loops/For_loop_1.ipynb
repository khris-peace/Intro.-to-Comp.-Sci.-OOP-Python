{
  "nbformat": 4,
  "nbformat_minor": 0,
  "metadata": {
    "colab": {
      "provenance": []
    },
    "kernelspec": {
      "name": "python3",
      "display_name": "Python 3"
    },
    "language_info": {
      "name": "python"
    }
  },
  "cells": [
    {
      "cell_type": "code",
      "execution_count": 22,
      "metadata": {
        "colab": {
          "base_uri": "https://localhost:8080/"
        },
        "id": "booHYWu7alam",
        "outputId": "29d262fc-dea8-447f-eba5-fac22b813ace"
      },
      "outputs": [
        {
          "output_type": "stream",
          "name": "stdout",
          "text": [
            "Burrow\n",
            "wBurro\n",
            "owBurr\n",
            "rowBur\n",
            "rrowBu\n",
            "urrowB\n"
          ]
        }
      ],
      "source": [
        "'''Burrow\n",
        "wBurro\n",
        "owBurr\n",
        "rowBur\n",
        "rrowBu\n",
        "urrowB'''\n",
        "\n",
        "word = \"Burrow\"\n",
        "\n",
        "for j in range(len(word)):\n",
        "  for i in range(len(word)):\n",
        "    print(word[i-j], sep='', end = '')\n",
        "  print('')\n",
        "  j += 1\n",
        "\n"
      ]
    }
  ]
}