{
  "nbformat": 4,
  "nbformat_minor": 0,
  "metadata": {
    "colab": {
      "provenance": []
    },
    "kernelspec": {
      "name": "python3",
      "display_name": "Python 3"
    },
    "language_info": {
      "name": "python"
    }
  },
  "cells": [
    {
      "cell_type": "code",
      "execution_count": 8,
      "metadata": {
        "colab": {
          "base_uri": "https://localhost:8080/"
        },
        "id": "yrj9KmrjsgDt",
        "outputId": "24aea3e3-5ab5-40bf-d6e5-938c8d838de5"
      },
      "outputs": [
        {
          "output_type": "stream",
          "name": "stdout",
          "text": [
            "*************************************************\n",
            "*                                               *\n",
            "* Hello, Sabeel! Welcome to Intro to Python! :) *\n",
            "*                                               *\n",
            "*************************************************\n"
          ]
        }
      ],
      "source": [
        "\"\"\"************************************************\n",
        "*                                              *\n",
        "* Hello, Niema! Welcome to Intro to Python! :) *\n",
        "*                                              *\n",
        "************************************************ \"\"\"\n",
        "\n",
        "name = 'Sabeel'\n",
        "\n",
        "l = len(name)\n",
        "\n",
        "print((9 + l + 34) * '*')\n",
        "print('*',(9 + l + 32)*' ', '*', sep = '')\n",
        "print('* ', 'Hello, ', name, '! Welcome to Intro to Python! :) *',sep = '')\n",
        "print('*',(9 + l + 32)*' ', '*', sep = '')\n",
        "print((9 + l + 34) * '*')\n",
        "\n",
        "#for index in range(9 + len(name) + 34):\n",
        " #   print('*', '')"
      ]
    }
  ]
}