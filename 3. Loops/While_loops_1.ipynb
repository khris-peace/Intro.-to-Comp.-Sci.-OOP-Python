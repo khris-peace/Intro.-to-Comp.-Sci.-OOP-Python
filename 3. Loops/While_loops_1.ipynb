{
  "nbformat": 4,
  "nbformat_minor": 0,
  "metadata": {
    "colab": {
      "provenance": []
    },
    "kernelspec": {
      "name": "python3",
      "display_name": "Python 3"
    },
    "language_info": {
      "name": "python"
    }
  },
  "cells": [
    {
      "cell_type": "code",
      "execution_count": 2,
      "metadata": {
        "colab": {
          "base_uri": "https://localhost:8080/"
        },
        "id": "YzWMy_Uc_DEc",
        "outputId": "77727efa-d094-4b32-c3d7-20e4eb24140f"
      },
      "outputs": [
        {
          "output_type": "stream",
          "name": "stdout",
          "text": [
            "Python\n",
            "Python\n",
            "Python\n"
          ]
        }
      ],
      "source": [
        "num = 3\n",
        "i = 1\n",
        "while i <= num:\n",
        "  print(\"Python\")\n",
        "  i += 1"
      ]
    }
  ]
}