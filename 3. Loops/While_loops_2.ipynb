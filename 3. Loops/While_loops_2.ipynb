{
  "nbformat": 4,
  "nbformat_minor": 0,
  "metadata": {
    "colab": {
      "provenance": []
    },
    "kernelspec": {
      "name": "python3",
      "display_name": "Python 3"
    },
    "language_info": {
      "name": "python"
    }
  },
  "cells": [
    {
      "cell_type": "code",
      "execution_count": 21,
      "metadata": {
        "colab": {
          "base_uri": "https://localhost:8080/"
        },
        "id": "oM3-K9gHAsPl",
        "outputId": "1a1443b9-8c03-4e93-e9c9-37c8a092e213"
      },
      "outputs": [
        {
          "output_type": "stream",
          "name": "stdout",
          "text": [
            "insecure\n"
          ]
        }
      ],
      "source": [
        "password = 'cse11uyqevd'\n",
        "\n",
        "i = k = l = m = n = j = a = b = 0\n",
        "lower = 'abcdefghijklmnopqrstuvwxyz'\n",
        "upper = 'ABCDEFGHIJKLMNOPQRSTUVWXYZ'\n",
        "digit = '123456789'\n",
        "\n",
        "if len(password) >= 7:\n",
        "  while i < len(password):\n",
        "    if password[i] in lower: \n",
        "      k = 1\n",
        "    i += 1\n",
        "  while j < len(password):\n",
        "    if password[j] in upper: \n",
        "      l = 1\n",
        "    j += 1\n",
        "  while a < len(password):\n",
        "    if password[a] not in upper and password[a] not in lower and password[a] not in digit:\n",
        "      m = 1\n",
        "    a += 1\n",
        "  while b < len(password):\n",
        "    if password[b] in digit: \n",
        "      n = 1\n",
        "    b += 1\n",
        "  #print(k, l, m, n)\n",
        "  if (k + l + m + n) >= 3: print('secure')\n",
        "  else: print('insecure')\n",
        "else: print('insecure')"
      ]
    }
  ]
}